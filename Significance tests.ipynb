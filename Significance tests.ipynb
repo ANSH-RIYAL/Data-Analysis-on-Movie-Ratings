{
 "cells": [
  {
   "cell_type": "code",
   "execution_count": 1,
   "id": "dc4dc28a",
   "metadata": {},
   "outputs": [],
   "source": [
    "import numpy as np\n",
    "import pandas as pd\n",
    "\n",
    "from scipy.stats import ks_2samp, mannwhitneyu, kruskal\n",
    "\n",
    "from matplotlib import pyplot as plt"
   ]
  },
  {
   "cell_type": "code",
   "execution_count": 2,
   "id": "58f30360",
   "metadata": {},
   "outputs": [],
   "source": [
    "def get_median_list(data, debug = True):\n",
    "    movie_medians = []\n",
    "    data_as_np = np.asarray(data)\n",
    "    for movie in range(data_as_np.shape[1]):\n",
    "        ratings = np.asarray(pd.DataFrame(data_as_np[:,movie]).dropna())\n",
    "#         print(ratings.flatten() == np.asarray([]))\n",
    "        movie_medians.append(np.median(ratings))\n",
    "    movie_medians = np.asarray(movie_medians)\n",
    "    if debug:\n",
    "        print(\"Unique values in medians: \",np.unique(movie_medians))\n",
    "        print(\"Number of movies: \",new_movie_medians.shape)\n",
    "    return movie_medians"
   ]
  },
  {
   "cell_type": "code",
   "execution_count": 3,
   "id": "4f37fd04",
   "metadata": {},
   "outputs": [
    {
     "data": {
      "text/html": [
       "<div>\n",
       "<style scoped>\n",
       "    .dataframe tbody tr th:only-of-type {\n",
       "        vertical-align: middle;\n",
       "    }\n",
       "\n",
       "    .dataframe tbody tr th {\n",
       "        vertical-align: top;\n",
       "    }\n",
       "\n",
       "    .dataframe thead th {\n",
       "        text-align: right;\n",
       "    }\n",
       "</style>\n",
       "<table border=\"1\" class=\"dataframe\">\n",
       "  <thead>\n",
       "    <tr style=\"text-align: right;\">\n",
       "      <th></th>\n",
       "      <th>The Life of David Gale (2003)</th>\n",
       "      <th>Wing Commander (1999)</th>\n",
       "      <th>Django Unchained (2012)</th>\n",
       "      <th>Alien (1979)</th>\n",
       "      <th>Indiana Jones and the Last Crusade (1989)</th>\n",
       "      <th>Snatch (2000)</th>\n",
       "      <th>Rambo: First Blood Part II (1985)</th>\n",
       "      <th>Fargo (1996)</th>\n",
       "      <th>Let the Right One In (2008)</th>\n",
       "      <th>Black Swan (2010)</th>\n",
       "      <th>...</th>\n",
       "      <th>When watching a movie I cheer or shout or talk or curse at the screen</th>\n",
       "      <th>When watching a movie I feel like the things on the screen are happening to me</th>\n",
       "      <th>As a movie unfolds I start to have problems keeping track of events that happened earlier</th>\n",
       "      <th>The emotions on the screen \"rub off\" on me - for instance if something sad is happening I get sad or if something frightening is happening I get scared</th>\n",
       "      <th>When watching a movie I get completely immersed in the alternative reality of the film</th>\n",
       "      <th>Movies change my position on social economic or political issues</th>\n",
       "      <th>When watching movies things get so intense that I have to stop watching</th>\n",
       "      <th>Gender identity (1 = female; 2 = male; 3 = self-described)</th>\n",
       "      <th>Are you an only child? (1: Yes; 0: No; -1: Did not respond)</th>\n",
       "      <th>Movies are best enjoyed alone (1: Yes; 0: No; -1: Did not respond)</th>\n",
       "    </tr>\n",
       "  </thead>\n",
       "  <tbody>\n",
       "    <tr>\n",
       "      <th>0</th>\n",
       "      <td>NaN</td>\n",
       "      <td>NaN</td>\n",
       "      <td>4.0</td>\n",
       "      <td>NaN</td>\n",
       "      <td>3.0</td>\n",
       "      <td>NaN</td>\n",
       "      <td>NaN</td>\n",
       "      <td>NaN</td>\n",
       "      <td>NaN</td>\n",
       "      <td>NaN</td>\n",
       "      <td>...</td>\n",
       "      <td>1.0</td>\n",
       "      <td>6.0</td>\n",
       "      <td>2.0</td>\n",
       "      <td>5.0</td>\n",
       "      <td>5.0</td>\n",
       "      <td>5.0</td>\n",
       "      <td>1.0</td>\n",
       "      <td>1.0</td>\n",
       "      <td>0</td>\n",
       "      <td>1</td>\n",
       "    </tr>\n",
       "    <tr>\n",
       "      <th>1</th>\n",
       "      <td>NaN</td>\n",
       "      <td>NaN</td>\n",
       "      <td>1.5</td>\n",
       "      <td>NaN</td>\n",
       "      <td>NaN</td>\n",
       "      <td>NaN</td>\n",
       "      <td>NaN</td>\n",
       "      <td>NaN</td>\n",
       "      <td>NaN</td>\n",
       "      <td>NaN</td>\n",
       "      <td>...</td>\n",
       "      <td>3.0</td>\n",
       "      <td>1.0</td>\n",
       "      <td>1.0</td>\n",
       "      <td>6.0</td>\n",
       "      <td>5.0</td>\n",
       "      <td>3.0</td>\n",
       "      <td>2.0</td>\n",
       "      <td>1.0</td>\n",
       "      <td>0</td>\n",
       "      <td>0</td>\n",
       "    </tr>\n",
       "    <tr>\n",
       "      <th>2</th>\n",
       "      <td>NaN</td>\n",
       "      <td>NaN</td>\n",
       "      <td>NaN</td>\n",
       "      <td>NaN</td>\n",
       "      <td>NaN</td>\n",
       "      <td>NaN</td>\n",
       "      <td>NaN</td>\n",
       "      <td>NaN</td>\n",
       "      <td>NaN</td>\n",
       "      <td>NaN</td>\n",
       "      <td>...</td>\n",
       "      <td>5.0</td>\n",
       "      <td>4.0</td>\n",
       "      <td>3.0</td>\n",
       "      <td>5.0</td>\n",
       "      <td>5.0</td>\n",
       "      <td>4.0</td>\n",
       "      <td>4.0</td>\n",
       "      <td>1.0</td>\n",
       "      <td>1</td>\n",
       "      <td>0</td>\n",
       "    </tr>\n",
       "    <tr>\n",
       "      <th>3</th>\n",
       "      <td>NaN</td>\n",
       "      <td>NaN</td>\n",
       "      <td>2.0</td>\n",
       "      <td>NaN</td>\n",
       "      <td>3.0</td>\n",
       "      <td>NaN</td>\n",
       "      <td>NaN</td>\n",
       "      <td>NaN</td>\n",
       "      <td>NaN</td>\n",
       "      <td>4.0</td>\n",
       "      <td>...</td>\n",
       "      <td>3.0</td>\n",
       "      <td>1.0</td>\n",
       "      <td>1.0</td>\n",
       "      <td>4.0</td>\n",
       "      <td>5.0</td>\n",
       "      <td>3.0</td>\n",
       "      <td>1.0</td>\n",
       "      <td>1.0</td>\n",
       "      <td>0</td>\n",
       "      <td>1</td>\n",
       "    </tr>\n",
       "    <tr>\n",
       "      <th>4</th>\n",
       "      <td>NaN</td>\n",
       "      <td>NaN</td>\n",
       "      <td>3.5</td>\n",
       "      <td>NaN</td>\n",
       "      <td>0.5</td>\n",
       "      <td>NaN</td>\n",
       "      <td>0.5</td>\n",
       "      <td>1.0</td>\n",
       "      <td>NaN</td>\n",
       "      <td>0.0</td>\n",
       "      <td>...</td>\n",
       "      <td>2.0</td>\n",
       "      <td>3.0</td>\n",
       "      <td>2.0</td>\n",
       "      <td>5.0</td>\n",
       "      <td>6.0</td>\n",
       "      <td>4.0</td>\n",
       "      <td>4.0</td>\n",
       "      <td>1.0</td>\n",
       "      <td>1</td>\n",
       "      <td>1</td>\n",
       "    </tr>\n",
       "  </tbody>\n",
       "</table>\n",
       "<p>5 rows × 477 columns</p>\n",
       "</div>"
      ],
      "text/plain": [
       "   The Life of David Gale (2003)  Wing Commander (1999)  \\\n",
       "0                            NaN                    NaN   \n",
       "1                            NaN                    NaN   \n",
       "2                            NaN                    NaN   \n",
       "3                            NaN                    NaN   \n",
       "4                            NaN                    NaN   \n",
       "\n",
       "   Django Unchained (2012)  Alien (1979)  \\\n",
       "0                      4.0           NaN   \n",
       "1                      1.5           NaN   \n",
       "2                      NaN           NaN   \n",
       "3                      2.0           NaN   \n",
       "4                      3.5           NaN   \n",
       "\n",
       "   Indiana Jones and the Last Crusade (1989)  Snatch (2000)  \\\n",
       "0                                        3.0            NaN   \n",
       "1                                        NaN            NaN   \n",
       "2                                        NaN            NaN   \n",
       "3                                        3.0            NaN   \n",
       "4                                        0.5            NaN   \n",
       "\n",
       "   Rambo: First Blood Part II (1985)  Fargo (1996)  \\\n",
       "0                                NaN           NaN   \n",
       "1                                NaN           NaN   \n",
       "2                                NaN           NaN   \n",
       "3                                NaN           NaN   \n",
       "4                                0.5           1.0   \n",
       "\n",
       "   Let the Right One In (2008)  Black Swan (2010)  ...  \\\n",
       "0                          NaN                NaN  ...   \n",
       "1                          NaN                NaN  ...   \n",
       "2                          NaN                NaN  ...   \n",
       "3                          NaN                4.0  ...   \n",
       "4                          NaN                0.0  ...   \n",
       "\n",
       "   When watching a movie I cheer or shout or talk or curse at the screen  \\\n",
       "0                                                1.0                       \n",
       "1                                                3.0                       \n",
       "2                                                5.0                       \n",
       "3                                                3.0                       \n",
       "4                                                2.0                       \n",
       "\n",
       "   When watching a movie I feel like the things on the screen are happening to me  \\\n",
       "0                                                6.0                                \n",
       "1                                                1.0                                \n",
       "2                                                4.0                                \n",
       "3                                                1.0                                \n",
       "4                                                3.0                                \n",
       "\n",
       "   As a movie unfolds I start to have problems keeping track of events that happened earlier  \\\n",
       "0                                                2.0                                           \n",
       "1                                                1.0                                           \n",
       "2                                                3.0                                           \n",
       "3                                                1.0                                           \n",
       "4                                                2.0                                           \n",
       "\n",
       "   The emotions on the screen \"rub off\" on me - for instance if something sad is happening I get sad or if something frightening is happening I get scared  \\\n",
       "0                                                5.0                                                                                                         \n",
       "1                                                6.0                                                                                                         \n",
       "2                                                5.0                                                                                                         \n",
       "3                                                4.0                                                                                                         \n",
       "4                                                5.0                                                                                                         \n",
       "\n",
       "   When watching a movie I get completely immersed in the alternative reality of the film  \\\n",
       "0                                                5.0                                        \n",
       "1                                                5.0                                        \n",
       "2                                                5.0                                        \n",
       "3                                                5.0                                        \n",
       "4                                                6.0                                        \n",
       "\n",
       "   Movies change my position on social economic or political issues  \\\n",
       "0                                                5.0                  \n",
       "1                                                3.0                  \n",
       "2                                                4.0                  \n",
       "3                                                3.0                  \n",
       "4                                                4.0                  \n",
       "\n",
       "   When watching movies things get so intense that I have to stop watching  \\\n",
       "0                                                1.0                         \n",
       "1                                                2.0                         \n",
       "2                                                4.0                         \n",
       "3                                                1.0                         \n",
       "4                                                4.0                         \n",
       "\n",
       "   Gender identity (1 = female; 2 = male; 3 = self-described)  \\\n",
       "0                                                1.0            \n",
       "1                                                1.0            \n",
       "2                                                1.0            \n",
       "3                                                1.0            \n",
       "4                                                1.0            \n",
       "\n",
       "   Are you an only child? (1: Yes; 0: No; -1: Did not respond)  \\\n",
       "0                                                  0             \n",
       "1                                                  0             \n",
       "2                                                  1             \n",
       "3                                                  0             \n",
       "4                                                  1             \n",
       "\n",
       "   Movies are best enjoyed alone (1: Yes; 0: No; -1: Did not respond)  \n",
       "0                                                  1                   \n",
       "1                                                  0                   \n",
       "2                                                  0                   \n",
       "3                                                  1                   \n",
       "4                                                  1                   \n",
       "\n",
       "[5 rows x 477 columns]"
      ]
     },
     "execution_count": 3,
     "metadata": {},
     "output_type": "execute_result"
    }
   ],
   "source": [
    "data = pd.read_csv('./data/movieReplicationSet.csv')\n",
    "data.head()"
   ]
  },
  {
   "cell_type": "code",
   "execution_count": 4,
   "id": "1f2eca70",
   "metadata": {},
   "outputs": [
    {
     "data": {
      "text/html": [
       "<div>\n",
       "<style scoped>\n",
       "    .dataframe tbody tr th:only-of-type {\n",
       "        vertical-align: middle;\n",
       "    }\n",
       "\n",
       "    .dataframe tbody tr th {\n",
       "        vertical-align: top;\n",
       "    }\n",
       "\n",
       "    .dataframe thead th {\n",
       "        text-align: right;\n",
       "    }\n",
       "</style>\n",
       "<table border=\"1\" class=\"dataframe\">\n",
       "  <thead>\n",
       "    <tr style=\"text-align: right;\">\n",
       "      <th></th>\n",
       "      <th>The Life of David Gale (2003)</th>\n",
       "      <th>Wing Commander (1999)</th>\n",
       "      <th>Django Unchained (2012)</th>\n",
       "      <th>Alien (1979)</th>\n",
       "      <th>Indiana Jones and the Last Crusade (1989)</th>\n",
       "      <th>Snatch (2000)</th>\n",
       "      <th>Rambo: First Blood Part II (1985)</th>\n",
       "      <th>Fargo (1996)</th>\n",
       "      <th>Let the Right One In (2008)</th>\n",
       "      <th>Black Swan (2010)</th>\n",
       "      <th>...</th>\n",
       "      <th>X-Men 2 (2003)</th>\n",
       "      <th>The Usual Suspects (1995)</th>\n",
       "      <th>The Mask (1994)</th>\n",
       "      <th>Jaws (1975)</th>\n",
       "      <th>Harry Potter and the Chamber of Secrets (2002)</th>\n",
       "      <th>Patton (1970)</th>\n",
       "      <th>Anaconda (1997)</th>\n",
       "      <th>Twister (1996)</th>\n",
       "      <th>MacArthur (1977)</th>\n",
       "      <th>Look Who's Talking (1989)</th>\n",
       "    </tr>\n",
       "  </thead>\n",
       "  <tbody>\n",
       "    <tr>\n",
       "      <th>0</th>\n",
       "      <td>NaN</td>\n",
       "      <td>NaN</td>\n",
       "      <td>4.0</td>\n",
       "      <td>NaN</td>\n",
       "      <td>3.0</td>\n",
       "      <td>NaN</td>\n",
       "      <td>NaN</td>\n",
       "      <td>NaN</td>\n",
       "      <td>NaN</td>\n",
       "      <td>NaN</td>\n",
       "      <td>...</td>\n",
       "      <td>NaN</td>\n",
       "      <td>NaN</td>\n",
       "      <td>NaN</td>\n",
       "      <td>4.0</td>\n",
       "      <td>0.5</td>\n",
       "      <td>NaN</td>\n",
       "      <td>NaN</td>\n",
       "      <td>NaN</td>\n",
       "      <td>NaN</td>\n",
       "      <td>NaN</td>\n",
       "    </tr>\n",
       "    <tr>\n",
       "      <th>1</th>\n",
       "      <td>NaN</td>\n",
       "      <td>NaN</td>\n",
       "      <td>1.5</td>\n",
       "      <td>NaN</td>\n",
       "      <td>NaN</td>\n",
       "      <td>NaN</td>\n",
       "      <td>NaN</td>\n",
       "      <td>NaN</td>\n",
       "      <td>NaN</td>\n",
       "      <td>NaN</td>\n",
       "      <td>...</td>\n",
       "      <td>NaN</td>\n",
       "      <td>NaN</td>\n",
       "      <td>NaN</td>\n",
       "      <td>NaN</td>\n",
       "      <td>4.0</td>\n",
       "      <td>NaN</td>\n",
       "      <td>NaN</td>\n",
       "      <td>NaN</td>\n",
       "      <td>NaN</td>\n",
       "      <td>NaN</td>\n",
       "    </tr>\n",
       "    <tr>\n",
       "      <th>2</th>\n",
       "      <td>NaN</td>\n",
       "      <td>NaN</td>\n",
       "      <td>NaN</td>\n",
       "      <td>NaN</td>\n",
       "      <td>NaN</td>\n",
       "      <td>NaN</td>\n",
       "      <td>NaN</td>\n",
       "      <td>NaN</td>\n",
       "      <td>NaN</td>\n",
       "      <td>NaN</td>\n",
       "      <td>...</td>\n",
       "      <td>NaN</td>\n",
       "      <td>NaN</td>\n",
       "      <td>NaN</td>\n",
       "      <td>NaN</td>\n",
       "      <td>3.5</td>\n",
       "      <td>NaN</td>\n",
       "      <td>NaN</td>\n",
       "      <td>NaN</td>\n",
       "      <td>NaN</td>\n",
       "      <td>NaN</td>\n",
       "    </tr>\n",
       "    <tr>\n",
       "      <th>3</th>\n",
       "      <td>NaN</td>\n",
       "      <td>NaN</td>\n",
       "      <td>2.0</td>\n",
       "      <td>NaN</td>\n",
       "      <td>3.0</td>\n",
       "      <td>NaN</td>\n",
       "      <td>NaN</td>\n",
       "      <td>NaN</td>\n",
       "      <td>NaN</td>\n",
       "      <td>4.0</td>\n",
       "      <td>...</td>\n",
       "      <td>NaN</td>\n",
       "      <td>3.0</td>\n",
       "      <td>NaN</td>\n",
       "      <td>NaN</td>\n",
       "      <td>2.5</td>\n",
       "      <td>NaN</td>\n",
       "      <td>NaN</td>\n",
       "      <td>NaN</td>\n",
       "      <td>NaN</td>\n",
       "      <td>NaN</td>\n",
       "    </tr>\n",
       "    <tr>\n",
       "      <th>4</th>\n",
       "      <td>NaN</td>\n",
       "      <td>NaN</td>\n",
       "      <td>3.5</td>\n",
       "      <td>NaN</td>\n",
       "      <td>0.5</td>\n",
       "      <td>NaN</td>\n",
       "      <td>0.5</td>\n",
       "      <td>1.0</td>\n",
       "      <td>NaN</td>\n",
       "      <td>0.0</td>\n",
       "      <td>...</td>\n",
       "      <td>2.5</td>\n",
       "      <td>NaN</td>\n",
       "      <td>3.0</td>\n",
       "      <td>NaN</td>\n",
       "      <td>NaN</td>\n",
       "      <td>NaN</td>\n",
       "      <td>NaN</td>\n",
       "      <td>1.5</td>\n",
       "      <td>NaN</td>\n",
       "      <td>NaN</td>\n",
       "    </tr>\n",
       "    <tr>\n",
       "      <th>...</th>\n",
       "      <td>...</td>\n",
       "      <td>...</td>\n",
       "      <td>...</td>\n",
       "      <td>...</td>\n",
       "      <td>...</td>\n",
       "      <td>...</td>\n",
       "      <td>...</td>\n",
       "      <td>...</td>\n",
       "      <td>...</td>\n",
       "      <td>...</td>\n",
       "      <td>...</td>\n",
       "      <td>...</td>\n",
       "      <td>...</td>\n",
       "      <td>...</td>\n",
       "      <td>...</td>\n",
       "      <td>...</td>\n",
       "      <td>...</td>\n",
       "      <td>...</td>\n",
       "      <td>...</td>\n",
       "      <td>...</td>\n",
       "      <td>...</td>\n",
       "    </tr>\n",
       "    <tr>\n",
       "      <th>1092</th>\n",
       "      <td>NaN</td>\n",
       "      <td>NaN</td>\n",
       "      <td>NaN</td>\n",
       "      <td>NaN</td>\n",
       "      <td>3.5</td>\n",
       "      <td>NaN</td>\n",
       "      <td>NaN</td>\n",
       "      <td>NaN</td>\n",
       "      <td>NaN</td>\n",
       "      <td>NaN</td>\n",
       "      <td>...</td>\n",
       "      <td>NaN</td>\n",
       "      <td>NaN</td>\n",
       "      <td>NaN</td>\n",
       "      <td>NaN</td>\n",
       "      <td>4.0</td>\n",
       "      <td>NaN</td>\n",
       "      <td>NaN</td>\n",
       "      <td>NaN</td>\n",
       "      <td>NaN</td>\n",
       "      <td>NaN</td>\n",
       "    </tr>\n",
       "    <tr>\n",
       "      <th>1093</th>\n",
       "      <td>3.0</td>\n",
       "      <td>4.0</td>\n",
       "      <td>NaN</td>\n",
       "      <td>NaN</td>\n",
       "      <td>4.0</td>\n",
       "      <td>4.0</td>\n",
       "      <td>2.5</td>\n",
       "      <td>NaN</td>\n",
       "      <td>3.5</td>\n",
       "      <td>3.5</td>\n",
       "      <td>...</td>\n",
       "      <td>4.0</td>\n",
       "      <td>NaN</td>\n",
       "      <td>4.0</td>\n",
       "      <td>3.5</td>\n",
       "      <td>3.5</td>\n",
       "      <td>4.0</td>\n",
       "      <td>3.5</td>\n",
       "      <td>4.0</td>\n",
       "      <td>4.0</td>\n",
       "      <td>4.0</td>\n",
       "    </tr>\n",
       "    <tr>\n",
       "      <th>1094</th>\n",
       "      <td>NaN</td>\n",
       "      <td>NaN</td>\n",
       "      <td>NaN</td>\n",
       "      <td>NaN</td>\n",
       "      <td>NaN</td>\n",
       "      <td>NaN</td>\n",
       "      <td>NaN</td>\n",
       "      <td>3.5</td>\n",
       "      <td>NaN</td>\n",
       "      <td>NaN</td>\n",
       "      <td>...</td>\n",
       "      <td>NaN</td>\n",
       "      <td>NaN</td>\n",
       "      <td>NaN</td>\n",
       "      <td>NaN</td>\n",
       "      <td>4.0</td>\n",
       "      <td>NaN</td>\n",
       "      <td>NaN</td>\n",
       "      <td>NaN</td>\n",
       "      <td>NaN</td>\n",
       "      <td>NaN</td>\n",
       "    </tr>\n",
       "    <tr>\n",
       "      <th>1095</th>\n",
       "      <td>NaN</td>\n",
       "      <td>NaN</td>\n",
       "      <td>NaN</td>\n",
       "      <td>NaN</td>\n",
       "      <td>NaN</td>\n",
       "      <td>NaN</td>\n",
       "      <td>NaN</td>\n",
       "      <td>NaN</td>\n",
       "      <td>NaN</td>\n",
       "      <td>NaN</td>\n",
       "      <td>...</td>\n",
       "      <td>NaN</td>\n",
       "      <td>NaN</td>\n",
       "      <td>NaN</td>\n",
       "      <td>NaN</td>\n",
       "      <td>2.5</td>\n",
       "      <td>NaN</td>\n",
       "      <td>NaN</td>\n",
       "      <td>NaN</td>\n",
       "      <td>NaN</td>\n",
       "      <td>NaN</td>\n",
       "    </tr>\n",
       "    <tr>\n",
       "      <th>1096</th>\n",
       "      <td>NaN</td>\n",
       "      <td>NaN</td>\n",
       "      <td>4.0</td>\n",
       "      <td>NaN</td>\n",
       "      <td>2.5</td>\n",
       "      <td>NaN</td>\n",
       "      <td>NaN</td>\n",
       "      <td>3.0</td>\n",
       "      <td>NaN</td>\n",
       "      <td>3.5</td>\n",
       "      <td>...</td>\n",
       "      <td>NaN</td>\n",
       "      <td>NaN</td>\n",
       "      <td>NaN</td>\n",
       "      <td>3.5</td>\n",
       "      <td>4.0</td>\n",
       "      <td>NaN</td>\n",
       "      <td>NaN</td>\n",
       "      <td>NaN</td>\n",
       "      <td>NaN</td>\n",
       "      <td>NaN</td>\n",
       "    </tr>\n",
       "  </tbody>\n",
       "</table>\n",
       "<p>1097 rows × 400 columns</p>\n",
       "</div>"
      ],
      "text/plain": [
       "      The Life of David Gale (2003)  Wing Commander (1999)  \\\n",
       "0                               NaN                    NaN   \n",
       "1                               NaN                    NaN   \n",
       "2                               NaN                    NaN   \n",
       "3                               NaN                    NaN   \n",
       "4                               NaN                    NaN   \n",
       "...                             ...                    ...   \n",
       "1092                            NaN                    NaN   \n",
       "1093                            3.0                    4.0   \n",
       "1094                            NaN                    NaN   \n",
       "1095                            NaN                    NaN   \n",
       "1096                            NaN                    NaN   \n",
       "\n",
       "      Django Unchained (2012)  Alien (1979)  \\\n",
       "0                         4.0           NaN   \n",
       "1                         1.5           NaN   \n",
       "2                         NaN           NaN   \n",
       "3                         2.0           NaN   \n",
       "4                         3.5           NaN   \n",
       "...                       ...           ...   \n",
       "1092                      NaN           NaN   \n",
       "1093                      NaN           NaN   \n",
       "1094                      NaN           NaN   \n",
       "1095                      NaN           NaN   \n",
       "1096                      4.0           NaN   \n",
       "\n",
       "      Indiana Jones and the Last Crusade (1989)  Snatch (2000)  \\\n",
       "0                                           3.0            NaN   \n",
       "1                                           NaN            NaN   \n",
       "2                                           NaN            NaN   \n",
       "3                                           3.0            NaN   \n",
       "4                                           0.5            NaN   \n",
       "...                                         ...            ...   \n",
       "1092                                        3.5            NaN   \n",
       "1093                                        4.0            4.0   \n",
       "1094                                        NaN            NaN   \n",
       "1095                                        NaN            NaN   \n",
       "1096                                        2.5            NaN   \n",
       "\n",
       "      Rambo: First Blood Part II (1985)  Fargo (1996)  \\\n",
       "0                                   NaN           NaN   \n",
       "1                                   NaN           NaN   \n",
       "2                                   NaN           NaN   \n",
       "3                                   NaN           NaN   \n",
       "4                                   0.5           1.0   \n",
       "...                                 ...           ...   \n",
       "1092                                NaN           NaN   \n",
       "1093                                2.5           NaN   \n",
       "1094                                NaN           3.5   \n",
       "1095                                NaN           NaN   \n",
       "1096                                NaN           3.0   \n",
       "\n",
       "      Let the Right One In (2008)  Black Swan (2010)  ...  X-Men 2 (2003)  \\\n",
       "0                             NaN                NaN  ...             NaN   \n",
       "1                             NaN                NaN  ...             NaN   \n",
       "2                             NaN                NaN  ...             NaN   \n",
       "3                             NaN                4.0  ...             NaN   \n",
       "4                             NaN                0.0  ...             2.5   \n",
       "...                           ...                ...  ...             ...   \n",
       "1092                          NaN                NaN  ...             NaN   \n",
       "1093                          3.5                3.5  ...             4.0   \n",
       "1094                          NaN                NaN  ...             NaN   \n",
       "1095                          NaN                NaN  ...             NaN   \n",
       "1096                          NaN                3.5  ...             NaN   \n",
       "\n",
       "      The Usual Suspects (1995)  The Mask (1994)  Jaws (1975)  \\\n",
       "0                           NaN              NaN          4.0   \n",
       "1                           NaN              NaN          NaN   \n",
       "2                           NaN              NaN          NaN   \n",
       "3                           3.0              NaN          NaN   \n",
       "4                           NaN              3.0          NaN   \n",
       "...                         ...              ...          ...   \n",
       "1092                        NaN              NaN          NaN   \n",
       "1093                        NaN              4.0          3.5   \n",
       "1094                        NaN              NaN          NaN   \n",
       "1095                        NaN              NaN          NaN   \n",
       "1096                        NaN              NaN          3.5   \n",
       "\n",
       "      Harry Potter and the Chamber of Secrets (2002)  Patton (1970)  \\\n",
       "0                                                0.5            NaN   \n",
       "1                                                4.0            NaN   \n",
       "2                                                3.5            NaN   \n",
       "3                                                2.5            NaN   \n",
       "4                                                NaN            NaN   \n",
       "...                                              ...            ...   \n",
       "1092                                             4.0            NaN   \n",
       "1093                                             3.5            4.0   \n",
       "1094                                             4.0            NaN   \n",
       "1095                                             2.5            NaN   \n",
       "1096                                             4.0            NaN   \n",
       "\n",
       "      Anaconda (1997)  Twister (1996)  MacArthur (1977)  \\\n",
       "0                 NaN             NaN               NaN   \n",
       "1                 NaN             NaN               NaN   \n",
       "2                 NaN             NaN               NaN   \n",
       "3                 NaN             NaN               NaN   \n",
       "4                 NaN             1.5               NaN   \n",
       "...               ...             ...               ...   \n",
       "1092              NaN             NaN               NaN   \n",
       "1093              3.5             4.0               4.0   \n",
       "1094              NaN             NaN               NaN   \n",
       "1095              NaN             NaN               NaN   \n",
       "1096              NaN             NaN               NaN   \n",
       "\n",
       "      Look Who's Talking (1989)  \n",
       "0                           NaN  \n",
       "1                           NaN  \n",
       "2                           NaN  \n",
       "3                           NaN  \n",
       "4                           NaN  \n",
       "...                         ...  \n",
       "1092                        NaN  \n",
       "1093                        4.0  \n",
       "1094                        NaN  \n",
       "1095                        NaN  \n",
       "1096                        NaN  \n",
       "\n",
       "[1097 rows x 400 columns]"
      ]
     },
     "execution_count": 4,
     "metadata": {},
     "output_type": "execute_result"
    }
   ],
   "source": [
    "movie_data = data.T[:400].T\n",
    "movie_data"
   ]
  },
  {
   "cell_type": "code",
   "execution_count": null,
   "id": "61a40689",
   "metadata": {},
   "outputs": [],
   "source": []
  },
  {
   "cell_type": "markdown",
   "id": "3d9333ca",
   "metadata": {},
   "source": [
    "### Question 1\n",
    "\n",
    "Are movies that are more popular (operationalized as having more ratings) rated higher than movies that\n",
    "are less popular?\n",
    "\n",
    "We can represent the ratings for every movie as their median"
   ]
  },
  {
   "cell_type": "code",
   "execution_count": 5,
   "id": "fe2b8dec",
   "metadata": {},
   "outputs": [
    {
     "name": "stdout",
     "output_type": "stream",
     "text": [
      "Shape of pop movies subset:  (1097, 200)\n",
      "Shape of unpop movies subset:  (1097, 200)\n"
     ]
    }
   ],
   "source": [
    "number_of_ratings = np.asarray(movie_data.describe().T)[:,0]\n",
    "median_number_of_ratings = np.median(number_of_ratings)\n",
    "\n",
    "pop = number_of_ratings > median_number_of_ratings\n",
    "unpop = ~pop\n",
    "\n",
    "popular_movies = np.asarray(movie_data)[:,pop]\n",
    "print(\"Shape of pop movies subset: \",popular_movies.shape)\n",
    "unpopular_movies = np.asarray(movie_data)[:,unpop]\n",
    "print(\"Shape of unpop movies subset: \",unpopular_movies.shape)\n",
    "\n",
    "pop_movie_medians = get_median_list(popular_movies, debug = False)\n",
    "unpop_movie_medians = get_median_list(unpopular_movies, debug = False)"
   ]
  },
  {
   "cell_type": "code",
   "execution_count": 6,
   "id": "1c450520",
   "metadata": {},
   "outputs": [
    {
     "name": "stdout",
     "output_type": "stream",
     "text": [
      "Median of all medians of ratings of popular movies:  3.0\n",
      "Median of all medians of ratings of unpopular movies:  2.5\n"
     ]
    }
   ],
   "source": [
    "print(\"Median of all medians of ratings of popular movies: \", np.median(pop_movie_medians))\n",
    "print(\"Median of all medians of ratings of unpopular movies: \", np.median(unpop_movie_medians))"
   ]
  },
  {
   "cell_type": "code",
   "execution_count": 7,
   "id": "a726b4da",
   "metadata": {},
   "outputs": [
    {
     "data": {
      "text/plain": [
       "<matplotlib.legend.Legend at 0x16c9405b0>"
      ]
     },
     "execution_count": 7,
     "metadata": {},
     "output_type": "execute_result"
    },
    {
     "data": {
      "image/png": "[encoded data removed]",
      "text/plain": [
       "<Figure size 640x480 with 1 Axes>"
      ]
     },
     "metadata": {},
     "output_type": "display_data"
    }
   ],
   "source": [
    "plt.hist(pop_movie_medians, density = True, alpha = 0.3, bins = 9)\n",
    "plt.hist(unpop_movie_medians, density = True, alpha = 0.3, bins = 9)\n",
    "plt.legend(['popular movies','unpopular movies'])"
   ]
  },
  {
   "cell_type": "code",
   "execution_count": 8,
   "id": "8113d310",
   "metadata": {},
   "outputs": [
    {
     "name": "stdout",
     "output_type": "stream",
     "text": [
      "6572.5 9.929258851707232e-35\n",
      "The results are significant and popular movies have a higher rating than unpopular ones\n"
     ]
    }
   ],
   "source": [
    "# Comparing the medians of pop movies vs medians of unpop movies with Mann Whitney test\n",
    "u,p = mannwhitneyu(unpop_movie_medians, pop_movie_medians, alternative = 'less')\n",
    "print(u,p)\n",
    "if p < 0.005:\n",
    "    print(\"The results are significant and popular movies have a higher rating than unpopular ones\")\n",
    "else:\n",
    "    print(\"The results are not significant and it can not be concluded that popular movies have a higher rating than unpopular ones\")"
   ]
  },
  {
   "cell_type": "code",
   "execution_count": 9,
   "id": "2d87495b",
   "metadata": {},
   "outputs": [
    {
     "name": "stdout",
     "output_type": "stream",
     "text": [
      "0.575 3.3927482426197853e-31\n",
      "The results are significant and popular movies have a higher rating than unpopular ones\n"
     ]
    }
   ],
   "source": [
    "# Comparing the medians of pop movies vs medians of unpop movies with KS test\n",
    "u,p = ks_2samp(pop_movie_medians, unpop_movie_medians, alternative = 'less')\n",
    "print(u,p)\n",
    "if p < 0.005:\n",
    "    print(\"The results are significant and popular movies have a higher rating than unpopular ones\")\n",
    "else:\n",
    "    print(\"The results are not significant and it can not be concluded that popular movies have a higher rating than unpopular ones\")"
   ]
  },
  {
   "cell_type": "markdown",
   "id": "88fdaab8",
   "metadata": {},
   "source": [
    "### Question 2\n",
    "\n",
    "Are movies that are newer rated differently than movies that are older?\n",
    "\n",
    "We can represent the ratings for every movie as their median"
   ]
  },
  {
   "cell_type": "code",
   "execution_count": 10,
   "id": "bc21133b",
   "metadata": {},
   "outputs": [
    {
     "name": "stdout",
     "output_type": "stream",
     "text": [
      "1999.0\n",
      "Shape of new movies subset:  (1097, 203)\n",
      "Shape of old movies subset:  (1097, 197)\n"
     ]
    }
   ],
   "source": [
    "years = np.asarray([int(i[-5:-1]) for i in movie_data.keys()])\n",
    "median_year = np.median(years)\n",
    "print(median_year)\n",
    "\n",
    "new = years >= median_year\n",
    "old = ~new\n",
    "\n",
    "new_movies = np.asarray(movie_data)[:,new]\n",
    "print(\"Shape of new movies subset: \",new_movies.shape)\n",
    "old_movies = np.asarray(movie_data)[:,old]\n",
    "print(\"Shape of old movies subset: \",old_movies.shape)\n",
    "\n",
    "new_movie_medians = get_median_list(new_movies, debug = False)\n",
    "old_movie_medians = get_median_list(old_movies, debug = False)"
   ]
  },
  {
   "cell_type": "code",
   "execution_count": 11,
   "id": "9d42041c",
   "metadata": {},
   "outputs": [
    {
     "name": "stdout",
     "output_type": "stream",
     "text": [
      "Median of all medians of ratings of popular movies:  3.0\n",
      "Median of all medians of ratings of unpopular movies:  3.0\n"
     ]
    }
   ],
   "source": [
    "print(\"Median of all medians of ratings of popular movies: \", np.median(new_movie_medians))\n",
    "print(\"Median of all medians of ratings of unpopular movies: \", np.median(old_movie_medians))"
   ]
  },
  {
   "cell_type": "code",
   "execution_count": 12,
   "id": "47e1a120",
   "metadata": {},
   "outputs": [
    {
     "data": {
      "text/plain": [
       "<matplotlib.legend.Legend at 0x16c969a50>"
      ]
     },
     "execution_count": 12,
     "metadata": {},
     "output_type": "execute_result"
    },
    {
     "data": {
      "image/png": "[encoded data removed]",
      "text/plain": [
       "<Figure size 640x480 with 1 Axes>"
      ]
     },
     "metadata": {},
     "output_type": "display_data"
    }
   ],
   "source": [
    "plt.hist(new_movie_medians, density = True, alpha = 0.3, bins = 9)\n",
    "plt.hist(old_movie_medians, density = True, alpha = 0.3, bins = 9)\n",
    "plt.legend(['new movies','old movies'])"
   ]
  },
  {
   "cell_type": "code",
   "execution_count": 13,
   "id": "f011152c",
   "metadata": {},
   "outputs": [
    {
     "name": "stdout",
     "output_type": "stream",
     "text": [
      "18127.5 0.08873661144000093\n",
      "The results are not significant and it can not be concluded that new movies have a different distribution than old ones\n"
     ]
    }
   ],
   "source": [
    "u,p = mannwhitneyu(old_movie_medians, new_movie_medians)\n",
    "print(u,p)\n",
    "if p < 0.005:\n",
    "    print(\"The results are significant and new movies have a different distribution than old ones\")\n",
    "else:\n",
    "    print(\"The results are not significant and it can not be concluded that new movies have a different distribution than old ones\")"
   ]
  },
  {
   "cell_type": "markdown",
   "id": "33df6c2a",
   "metadata": {},
   "source": [
    "### Question 3\n",
    "\n",
    "Is enjoyment of ‘Shrek (2001)’ gendered, i.e. do male and female viewers rate it differently?\n"
   ]
  },
  {
   "cell_type": "code",
   "execution_count": 14,
   "id": "9f6f1825",
   "metadata": {},
   "outputs": [
    {
     "data": {
      "text/plain": [
       "array([ 1.,  2.,  3., nan])"
      ]
     },
     "execution_count": 14,
     "metadata": {},
     "output_type": "execute_result"
    }
   ],
   "source": [
    "gender_female = 'Gender identity (1 = female; 2 = male; 3 = self-described)'\n",
    "np.unique(data[gender_female])"
   ]
  },
  {
   "cell_type": "code",
   "execution_count": 15,
   "id": "8ac52e38",
   "metadata": {},
   "outputs": [],
   "source": [
    "data_female = data[data[gender_female] == 1].T.iloc[:400].T\n",
    "data_male = data[data[gender_female] == 2].T.iloc[:400].T"
   ]
  },
  {
   "cell_type": "code",
   "execution_count": 16,
   "id": "755a52a4",
   "metadata": {},
   "outputs": [],
   "source": [
    "shrek_key_index = list(data.keys()).index('Shrek (2001)')\n",
    "\n",
    "shrek_ratings_female = np.asarray(pd.DataFrame(np.asarray(data_female)[:,shrek_key_index]).dropna()).flatten()\n",
    "shrek_ratings_male = np.asarray(pd.DataFrame(np.asarray(data_male)[:,shrek_key_index]).dropna()).flatten()"
   ]
  },
  {
   "cell_type": "code",
   "execution_count": 17,
   "id": "1d8f70bd",
   "metadata": {},
   "outputs": [
    {
     "data": {
      "text/plain": [
       "(743,)"
      ]
     },
     "execution_count": 17,
     "metadata": {},
     "output_type": "execute_result"
    }
   ],
   "source": [
    "shrek_ratings_female.shape"
   ]
  },
  {
   "cell_type": "code",
   "execution_count": 18,
   "id": "dcf5899c",
   "metadata": {},
   "outputs": [
    {
     "data": {
      "text/plain": [
       "(241,)"
      ]
     },
     "execution_count": 18,
     "metadata": {},
     "output_type": "execute_result"
    }
   ],
   "source": [
    "shrek_ratings_male.shape"
   ]
  },
  {
   "cell_type": "code",
   "execution_count": 19,
   "id": "5654a2f8",
   "metadata": {},
   "outputs": [
    {
     "name": "stdout",
     "output_type": "stream",
     "text": [
      "P value of query is:  0.050536625925559006\n",
      "The results are not significant and it can not be concluded that ratings of Shrek (2001) are gendered\n"
     ]
    }
   ],
   "source": [
    "u,p = mannwhitneyu(shrek_ratings_female, shrek_ratings_male)\n",
    "print(\"P value of query is: \",p)\n",
    "if p < 0.005:\n",
    "    print(\"The results are significant and ratings of Shrek (2001) are gendered\")\n",
    "else:\n",
    "    print(\"The results are not significant and it can not be concluded that ratings of Shrek (2001) are gendered\")"
   ]
  },
  {
   "cell_type": "code",
   "execution_count": 20,
   "id": "da623d31",
   "metadata": {},
   "outputs": [
    {
     "data": {
      "text/plain": [
       "96830.5"
      ]
     },
     "execution_count": 20,
     "metadata": {},
     "output_type": "execute_result"
    }
   ],
   "source": [
    "u"
   ]
  },
  {
   "cell_type": "code",
   "execution_count": 21,
   "id": "30f9c818",
   "metadata": {},
   "outputs": [
    {
     "data": {
      "text/plain": [
       "array([0. , 0.5, 1. , 1.5, 2. , 2.5, 3. , 3.5, 4. ])"
      ]
     },
     "execution_count": 21,
     "metadata": {},
     "output_type": "execute_result"
    }
   ],
   "source": [
    "np.unique(shrek_ratings_female)"
   ]
  },
  {
   "cell_type": "code",
   "execution_count": 22,
   "id": "d553c8f9",
   "metadata": {},
   "outputs": [
    {
     "data": {
      "text/plain": [
       "<matplotlib.legend.Legend at 0x16c7a5fc0>"
      ]
     },
     "execution_count": 22,
     "metadata": {},
     "output_type": "execute_result"
    },
    {
     "data": {
      "image/png": "[encoded data removed]",
      "text/plain": [
       "<Figure size 640x480 with 1 Axes>"
      ]
     },
     "metadata": {},
     "output_type": "display_data"
    }
   ],
   "source": [
    "plt.hist(shrek_ratings_female, density = True, alpha = 0.3, bins = 9)\n",
    "plt.hist(shrek_ratings_male, density = True, alpha = 0.3, bins = 9)\n",
    "plt.legend(['female audience','male audience'])"
   ]
  },
  {
   "cell_type": "markdown",
   "id": "474aaa59",
   "metadata": {},
   "source": [
    "### Question 4\n",
    "\n",
    "What proportion of movies are rated differently by male and female viewers?"
   ]
  },
  {
   "cell_type": "code",
   "execution_count": 23,
   "id": "a50b7241",
   "metadata": {},
   "outputs": [
    {
     "name": "stdout",
     "output_type": "stream",
     "text": [
      "Proportion of movies showing a gendered effect is: 12.5% acc to Mann Whitney\n"
     ]
    }
   ],
   "source": [
    "count = [0,0]\n",
    "for movie in data_female.keys():\n",
    "    movie_female = np.asarray(data_female[movie])\n",
    "    movie_female = np.asarray(pd.DataFrame(movie_female).dropna())[:,0]\n",
    "\n",
    "    movie_male = np.asarray(data_male[movie])\n",
    "    movie_male = np.asarray(pd.DataFrame(movie_male).dropna())[:,0]\n",
    "        \n",
    "    p_val_mwu = mannwhitneyu(movie_male, movie_female)[1]\n",
    "    if p_val_mwu <0.005:\n",
    "        count[1] += 1\n",
    "\n",
    "print(\"Proportion of movies showing a gendered effect is: {}% acc to Mann Whitney\".format(100*count[1]/400.0))"
   ]
  },
  {
   "cell_type": "markdown",
   "id": "dd43b199",
   "metadata": {},
   "source": [
    "### Question 5\n",
    "\n",
    "Do people who are only children enjoy ‘The Lion King (1994)’ more than people with siblings?"
   ]
  },
  {
   "cell_type": "code",
   "execution_count": 24,
   "id": "e1e9daf7",
   "metadata": {},
   "outputs": [
    {
     "data": {
      "text/plain": [
       "array([-1,  0,  1])"
      ]
     },
     "execution_count": 24,
     "metadata": {},
     "output_type": "execute_result"
    }
   ],
   "source": [
    "only_child = 'Are you an only child? (1: Yes; 0: No; -1: Did not respond)'\n",
    "np.unique(data[only_child])"
   ]
  },
  {
   "cell_type": "code",
   "execution_count": 25,
   "id": "20869356",
   "metadata": {},
   "outputs": [
    {
     "name": "stdout",
     "output_type": "stream",
     "text": [
      "64247.0 0.978419092554931\n",
      "The results are not significant and it can not be concluded that ratings of The Lion King (1994) are higher for only children than children with siblings\n"
     ]
    }
   ],
   "source": [
    "data_only = data[data[only_child] == 1].T.iloc[:400].T\n",
    "data_siblings = data[data[only_child] == 0].T.iloc[:400].T\n",
    "\n",
    "lion_king_key_index = list(data.keys()).index('The Lion King (1994)')\n",
    "\n",
    "lk_ratings_only = np.asarray(pd.DataFrame(np.asarray(data_only)[:,lion_king_key_index]).dropna()).flatten()\n",
    "lk_ratings_siblings = np.asarray(pd.DataFrame(np.asarray(data_siblings)[:,lion_king_key_index]).dropna()).flatten()\n",
    "\n",
    "\n",
    "u,p = mannwhitneyu(lk_ratings_siblings, lk_ratings_only, alternative = 'less')\n",
    "print(u,p)\n",
    "if p < 0.005:\n",
    "    print(\"The results are significant and ratings of The Lion King (1994) are higher for only children than children with siblings\")\n",
    "else:\n",
    "    print(\"The results are not significant and it can not be concluded that ratings of The Lion King (1994) are higher for only children than children with siblings\")"
   ]
  },
  {
   "cell_type": "code",
   "execution_count": 26,
   "id": "2553688c",
   "metadata": {},
   "outputs": [
    {
     "data": {
      "text/plain": [
       "(151,)"
      ]
     },
     "execution_count": 26,
     "metadata": {},
     "output_type": "execute_result"
    }
   ],
   "source": [
    "lk_ratings_only.shape"
   ]
  },
  {
   "cell_type": "code",
   "execution_count": 27,
   "id": "72502a0c",
   "metadata": {},
   "outputs": [
    {
     "data": {
      "text/plain": [
       "3.5"
      ]
     },
     "execution_count": 27,
     "metadata": {},
     "output_type": "execute_result"
    }
   ],
   "source": [
    "np.median(lk_ratings_only)"
   ]
  },
  {
   "cell_type": "code",
   "execution_count": 28,
   "id": "de53d235",
   "metadata": {},
   "outputs": [
    {
     "data": {
      "text/plain": [
       "(776,)"
      ]
     },
     "execution_count": 28,
     "metadata": {},
     "output_type": "execute_result"
    }
   ],
   "source": [
    "lk_ratings_siblings.shape"
   ]
  },
  {
   "cell_type": "code",
   "execution_count": 29,
   "id": "89fc06a1",
   "metadata": {},
   "outputs": [
    {
     "data": {
      "text/plain": [
       "4.0"
      ]
     },
     "execution_count": 29,
     "metadata": {},
     "output_type": "execute_result"
    }
   ],
   "source": [
    "np.median(lk_ratings_siblings)"
   ]
  },
  {
   "cell_type": "code",
   "execution_count": 30,
   "id": "572a7674",
   "metadata": {},
   "outputs": [
    {
     "data": {
      "text/plain": [
       "<matplotlib.legend.Legend at 0x17b67d210>"
      ]
     },
     "execution_count": 30,
     "metadata": {},
     "output_type": "execute_result"
    },
    {
     "data": {
      "image/png": "[encoded data removed]",
      "text/plain": [
       "<Figure size 640x480 with 1 Axes>"
      ]
     },
     "metadata": {},
     "output_type": "display_data"
    }
   ],
   "source": [
    "plt.hist(lk_ratings_only, density = True, alpha = 0.3, bins = 9)\n",
    "plt.hist(lk_ratings_siblings, density = True, alpha = 0.3, bins = 9)\n",
    "plt.legend(['only children','people with siblings'])"
   ]
  },
  {
   "cell_type": "markdown",
   "id": "d68f8cd8",
   "metadata": {},
   "source": [
    "### Question 6\n",
    "\n",
    "What proportion of movies exhibit an “only child effect”, i.e. are rated different by viewers with siblings\n",
    "vs. those without?"
   ]
  },
  {
   "cell_type": "code",
   "execution_count": 31,
   "id": "20a82b09",
   "metadata": {},
   "outputs": [
    {
     "name": "stdout",
     "output_type": "stream",
     "text": [
      "Proportion of movies showing a only child effect is: 1.75% acc to Mann Whitney\n"
     ]
    }
   ],
   "source": [
    "count = [0,0]\n",
    "for movie in data_female.keys():\n",
    "    movie_only = np.asarray(data_only[movie])\n",
    "    movie_only = np.asarray(pd.DataFrame(movie_only).dropna())[:,0]\n",
    "\n",
    "    movie_siblings = np.asarray(data_siblings[movie])\n",
    "    movie_siblings = np.asarray(pd.DataFrame(movie_siblings).dropna())[:,0]\n",
    "    \n",
    "    p_val_mwu = mannwhitneyu(movie_siblings, movie_only)[1]\n",
    "    if p_val_mwu <0.005:\n",
    "        count[1] += 1\n",
    "\n",
    "print(\"Proportion of movies showing a only child effect is: {}% acc to Mann Whitney\".format(100*count[1]/400.0))"
   ]
  },
  {
   "cell_type": "code",
   "execution_count": 32,
   "id": "7688a1d6",
   "metadata": {},
   "outputs": [
    {
     "data": {
      "text/plain": [
       "[0, 7]"
      ]
     },
     "execution_count": 32,
     "metadata": {},
     "output_type": "execute_result"
    }
   ],
   "source": [
    "count"
   ]
  },
  {
   "cell_type": "markdown",
   "id": "c9503138",
   "metadata": {},
   "source": [
    "#### Question 7\n",
    "\n",
    "Do people who like to watch movies socially enjoy ‘The Wolf of Wall Street (2013)’ more than those who\n",
    "prefer to watch them alone?"
   ]
  },
  {
   "cell_type": "code",
   "execution_count": 33,
   "id": "9d4a52cd",
   "metadata": {},
   "outputs": [
    {
     "data": {
      "text/plain": [
       "array([-1,  0,  1])"
      ]
     },
     "execution_count": 33,
     "metadata": {},
     "output_type": "execute_result"
    }
   ],
   "source": [
    "watch_alone = 'Movies are best enjoyed alone (1: Yes; 0: No; -1: Did not respond)'\n",
    "np.unique(data[watch_alone])"
   ]
  },
  {
   "cell_type": "code",
   "execution_count": 34,
   "id": "3e702c72",
   "metadata": {},
   "outputs": [
    {
     "name": "stdout",
     "output_type": "stream",
     "text": [
      "56806.5 0.9436657996253056\n",
      "The results are not significant and it can not be concluded that ratings of The Wolf of Wall Street (2013) are higher for social watchers than solo watchers\n"
     ]
    }
   ],
   "source": [
    "data_socially = data[data[watch_alone] == 0].T.iloc[:400].T\n",
    "data_solo = data[data[watch_alone] == 1].T.iloc[:400].T\n",
    "\n",
    "wolf_key_index = list(data.keys()).index('The Wolf of Wall Street (2013)')\n",
    "\n",
    "wolf_ratings_socially = np.asarray(pd.DataFrame(np.asarray(data_socially)[:,wolf_key_index]).dropna()).flatten()\n",
    "wolf_ratings_solo = np.asarray(pd.DataFrame(np.asarray(data_solo)[:,wolf_key_index]).dropna()).flatten()\n",
    "\n",
    "\n",
    "u,p = mannwhitneyu(wolf_ratings_solo, wolf_ratings_socially, alternative = 'less')\n",
    "print(u,p)\n",
    "if p < 0.005:\n",
    "    print(\"The results are significant and ratings of The Wolf of Wall Street (2013) are higher for social watchers than solo watchers\")\n",
    "else:\n",
    "    print(\"The results are not significant and it can not be concluded that ratings of The Wolf of Wall Street (2013) are higher for social watchers than solo watchers\")"
   ]
  },
  {
   "cell_type": "code",
   "execution_count": 35,
   "id": "512371f3",
   "metadata": {},
   "outputs": [
    {
     "data": {
      "text/plain": [
       "3.0"
      ]
     },
     "execution_count": 35,
     "metadata": {},
     "output_type": "execute_result"
    }
   ],
   "source": [
    "np.median(wolf_ratings_socially)"
   ]
  },
  {
   "cell_type": "code",
   "execution_count": 36,
   "id": "7384f461",
   "metadata": {},
   "outputs": [
    {
     "data": {
      "text/plain": [
       "3.5"
      ]
     },
     "execution_count": 36,
     "metadata": {},
     "output_type": "execute_result"
    }
   ],
   "source": [
    "np.median(wolf_ratings_solo)"
   ]
  },
  {
   "cell_type": "code",
   "execution_count": 37,
   "id": "f8febc52",
   "metadata": {},
   "outputs": [
    {
     "data": {
      "text/plain": [
       "(270,)"
      ]
     },
     "execution_count": 37,
     "metadata": {},
     "output_type": "execute_result"
    }
   ],
   "source": [
    "wolf_ratings_socially.shape"
   ]
  },
  {
   "cell_type": "code",
   "execution_count": 38,
   "id": "847a910c",
   "metadata": {},
   "outputs": [
    {
     "data": {
      "text/plain": [
       "(393,)"
      ]
     },
     "execution_count": 38,
     "metadata": {},
     "output_type": "execute_result"
    }
   ],
   "source": [
    "wolf_ratings_solo.shape"
   ]
  },
  {
   "cell_type": "code",
   "execution_count": 39,
   "id": "3b6044d8",
   "metadata": {},
   "outputs": [
    {
     "data": {
      "text/plain": [
       "array([0. , 0.5, 1. , 1.5, 2. , 2.5, 3. , 3.5, 4. ])"
      ]
     },
     "execution_count": 39,
     "metadata": {},
     "output_type": "execute_result"
    }
   ],
   "source": [
    "np.unique(wolf_ratings_socially)"
   ]
  },
  {
   "cell_type": "code",
   "execution_count": 40,
   "id": "01cfbf75",
   "metadata": {},
   "outputs": [
    {
     "data": {
      "text/plain": [
       "<matplotlib.legend.Legend at 0x17b997d60>"
      ]
     },
     "execution_count": 40,
     "metadata": {},
     "output_type": "execute_result"
    },
    {
     "data": {
      "image/png": "[encoded data removed]",
      "text/plain": [
       "<Figure size 640x480 with 1 Axes>"
      ]
     },
     "metadata": {},
     "output_type": "display_data"
    }
   ],
   "source": [
    "plt.hist(wolf_ratings_solo, density = True, alpha = 0.3, bins = 9)\n",
    "plt.hist(wolf_ratings_socially, density = True, alpha = 0.3, bins = 9)\n",
    "plt.legend(['solo watchers','social watchers'])"
   ]
  },
  {
   "cell_type": "markdown",
   "id": "754b0cfd",
   "metadata": {},
   "source": [
    "#### Question 8\n",
    "\n",
    "What proportion of movies exhibit such a “social watching” effect?"
   ]
  },
  {
   "cell_type": "code",
   "execution_count": 41,
   "id": "f25eef91",
   "metadata": {},
   "outputs": [
    {
     "name": "stdout",
     "output_type": "stream",
     "text": [
      "Proportion of movies showing a social effect is: 1.5% acc to Mann Whitney\n"
     ]
    }
   ],
   "source": [
    "count = [0,0]\n",
    "for movie in movie_data.keys():\n",
    "    movie_solo = np.asarray(data_solo[movie])\n",
    "    movie_solo = np.asarray(pd.DataFrame(movie_solo).dropna())[:,0]\n",
    "\n",
    "    movie_socially = np.asarray(data_socially[movie])\n",
    "    movie_socially = np.asarray(pd.DataFrame(movie_socially).dropna())[:,0]\n",
    "        \n",
    "    p_val_mwu = mannwhitneyu(movie_solo, movie_socially, alternative = 'less')[1]\n",
    "#     print(round(p_val_mwu,3))\n",
    "    if p_val_mwu <0.005:\n",
    "        count[1] += 1\n",
    "\n",
    "print(\"Proportion of movies showing a social effect is: {}% acc to Mann Whitney\".format(100*count[1]/400.0))"
   ]
  },
  {
   "cell_type": "code",
   "execution_count": 42,
   "id": "fba15b63",
   "metadata": {},
   "outputs": [
    {
     "data": {
      "text/plain": [
       "[0, 6]"
      ]
     },
     "execution_count": 42,
     "metadata": {},
     "output_type": "execute_result"
    }
   ],
   "source": [
    "count"
   ]
  },
  {
   "cell_type": "markdown",
   "id": "f44db872",
   "metadata": {},
   "source": [
    "#### Question 9\n",
    "\n",
    "Is the ratings distribution of ‘Home Alone (1990)’ different than that of ‘Finding Nemo (2003)’?"
   ]
  },
  {
   "cell_type": "code",
   "execution_count": 43,
   "id": "b7f5aec4",
   "metadata": {},
   "outputs": [
    {
     "name": "stdout",
     "output_type": "stream",
     "text": [
      "0.15269080020897632 6.379397182836346e-10\n",
      "The results are significant and rating distributions are different\n"
     ]
    }
   ],
   "source": [
    "ha = np.asarray(movie_data['Home Alone (1990)'].dropna())\n",
    "fn = np.asarray(movie_data['Finding Nemo (2003)'].dropna())\n",
    "\n",
    "d,p = ks_2samp(ha, fn)\n",
    "print(d,p)\n",
    "\n",
    "if p < 0.005:\n",
    "    print(\"The results are significant and rating distributions are different\")\n",
    "else:\n",
    "    print(\"The results are not significant and it can not be concluded that ratings distributions are different\")"
   ]
  },
  {
   "cell_type": "code",
   "execution_count": 44,
   "id": "b853e1a3",
   "metadata": {},
   "outputs": [
    {
     "name": "stdout",
     "output_type": "stream",
     "text": [
      "(857,) 3.5\n"
     ]
    }
   ],
   "source": [
    "print(ha.shape, np.median(ha))"
   ]
  },
  {
   "cell_type": "code",
   "execution_count": 45,
   "id": "f178359e",
   "metadata": {},
   "outputs": [
    {
     "name": "stdout",
     "output_type": "stream",
     "text": [
      "(1014,) 3.5\n"
     ]
    }
   ],
   "source": [
    "print(fn.shape, np.median(fn))"
   ]
  },
  {
   "cell_type": "code",
   "execution_count": 46,
   "id": "5ef049e8",
   "metadata": {},
   "outputs": [
    {
     "data": {
      "text/plain": [
       "<matplotlib.legend.Legend at 0x17b66a050>"
      ]
     },
     "execution_count": 46,
     "metadata": {},
     "output_type": "execute_result"
    },
    {
     "data": {
      "image/png": "[encoded data removed]",
      "text/plain": [
       "<Figure size 640x480 with 1 Axes>"
      ]
     },
     "metadata": {},
     "output_type": "display_data"
    }
   ],
   "source": [
    "plt.hist(ha, density = True, alpha = 0.3, bins = 9)\n",
    "plt.hist(fn, density = True, alpha = 0.3, bins = 9)\n",
    "plt.legend(['Home Alone','Finding Nemo'])"
   ]
  },
  {
   "cell_type": "markdown",
   "id": "8211f076",
   "metadata": {},
   "source": [
    "#### Question 10\n",
    "\n",
    "There are ratings on movies from several franchises ([‘Star Wars’, ‘Harry Potter’, ‘The Matrix’, ‘Indiana\n",
    "Jones’, ‘Jurassic Park’, ‘Pirates of the Caribbean’, ‘Toy Story’, ‘Batman’]) in this dataset. How many of these\n",
    "are of inconsistent quality, as experienced by viewers?"
   ]
  },
  {
   "cell_type": "code",
   "execution_count": 47,
   "id": "f8201f72",
   "metadata": {},
   "outputs": [],
   "source": [
    "franchises = \"Star Wars’, ‘Harry Potter’, ‘The Matrix’, ‘Indiana Jones’, ‘Jurassic Park’, ‘Pirates of the Caribbean’, ‘Toy Story’, ‘Batman\".split(\"’, ‘\")"
   ]
  },
  {
   "cell_type": "code",
   "execution_count": 48,
   "id": "eb816599",
   "metadata": {},
   "outputs": [],
   "source": [
    "movies_in_franchises = {}\n",
    "for franchise in franchises:\n",
    "    movies = []\n",
    "    for i in list(movie_data.keys()):\n",
    "        if i[:len(franchise)] == franchise:\n",
    "            movies.append(i)\n",
    "    movies_in_franchises[franchise] = movies"
   ]
  },
  {
   "cell_type": "code",
   "execution_count": 49,
   "id": "2fa324f0",
   "metadata": {},
   "outputs": [
    {
     "data": {
      "text/plain": [
       "{'Star Wars': ['Star Wars: Episode IV - A New Hope (1977)',\n",
       "  'Star Wars: Episode II - Attack of the Clones (2002)',\n",
       "  'Star Wars: Episode V - The Empire Strikes Back (1980)',\n",
       "  'Star Wars: Episode 1 - The Phantom Menace (1999)',\n",
       "  'Star Wars: Episode VII - The Force Awakens (2015)',\n",
       "  'Star Wars: Episode VI - The Return of the Jedi (1983)'],\n",
       " 'Harry Potter': [\"Harry Potter and the Sorcerer's Stone (2001)\",\n",
       "  'Harry Potter and the Deathly Hallows: Part 2 (2011)',\n",
       "  'Harry Potter and the Goblet of Fire (2005)',\n",
       "  'Harry Potter and the Chamber of Secrets (2002)'],\n",
       " 'The Matrix': ['The Matrix Revolutions (2003)',\n",
       "  'The Matrix Reloaded (2003)',\n",
       "  'The Matrix (1999)'],\n",
       " 'Indiana Jones': ['Indiana Jones and the Last Crusade (1989)',\n",
       "  'Indiana Jones and the Temple of Doom (1984)',\n",
       "  'Indiana Jones and the Raiders of the Lost Ark (1981)',\n",
       "  'Indiana Jones and the Kingdom of the Crystal Skull (2008)'],\n",
       " 'Jurassic Park': ['Jurassic Park III (2001)', 'Jurassic Park (1993)'],\n",
       " 'Pirates of the Caribbean': [\"Pirates of the Caribbean: Dead Man's Chest (2006)\",\n",
       "  \"Pirates of the Caribbean: At World's End (2007)\",\n",
       "  'Pirates of the Caribbean: The Curse of the Black Pearl (2003)'],\n",
       " 'Toy Story': ['Toy Story 2 (1999)', 'Toy Story 3 (2010)', 'Toy Story (1995)'],\n",
       " 'Batman': ['Batman & Robin (1997)',\n",
       "  'Batman (1989)',\n",
       "  'Batman: The Dark Knight (2008)']}"
      ]
     },
     "execution_count": 49,
     "metadata": {},
     "output_type": "execute_result"
    }
   ],
   "source": [
    "movies_in_franchises"
   ]
  },
  {
   "cell_type": "code",
   "execution_count": 50,
   "id": "d55d1a73",
   "metadata": {},
   "outputs": [
    {
     "name": "stdout",
     "output_type": "stream",
     "text": [
      "6\n",
      "4\n",
      "3\n",
      "4\n",
      "2\n",
      "3\n",
      "3\n",
      "3\n",
      "28\n"
     ]
    }
   ],
   "source": [
    "count = 0\n",
    "for franchise in movies_in_franchises:\n",
    "    l = len(movies_in_franchises[franchise])\n",
    "    print(l)\n",
    "    count += l\n",
    "print(count)"
   ]
  },
  {
   "cell_type": "code",
   "execution_count": 51,
   "id": "68c6f5ce",
   "metadata": {},
   "outputs": [
    {
     "name": "stdout",
     "output_type": "stream",
     "text": [
      "\n",
      "\n",
      " Star Wars \n",
      "\n",
      "230.5841753686405 8.01647736660335e-48\n",
      "Significant, movies are rated differently\n",
      "\n",
      "\n",
      " Harry Potter \n",
      "\n",
      "3.331230732890868 0.34331950837289205\n",
      "Not Significant, movies are rated similarly\n",
      "\n",
      "\n",
      " The Matrix \n",
      "\n",
      "48.378866521305774 3.1236517880781424e-11\n",
      "Significant, movies are rated differently\n",
      "\n",
      "\n",
      " Indiana Jones \n",
      "\n",
      "45.79416340261569 6.27277563979608e-10\n",
      "Significant, movies are rated differently\n",
      "\n",
      "\n",
      " Jurassic Park \n",
      "\n",
      "45.17505738323164 1.8018542092238714e-11\n",
      "Significant, movies are rated differently\n",
      "\n",
      "\n",
      " Pirates of the Caribbean \n",
      "\n",
      "20.64399756002606 3.2901287079094474e-05\n",
      "Significant, movies are rated differently\n",
      "\n",
      "\n",
      " Toy Story \n",
      "\n",
      "24.38599493626327 5.065805156537524e-06\n",
      "Significant, movies are rated differently\n",
      "\n",
      "\n",
      " Batman \n",
      "\n",
      "190.53496872634642 4.2252969509030006e-42\n",
      "Significant, movies are rated differently\n"
     ]
    }
   ],
   "source": [
    "for franchise in movies_in_franchises:\n",
    "    franchise_ratings = movie_data[movies_in_franchises[franchise]]\n",
    "    franchise_ratings = [np.asarray(franchise_ratings[i].dropna()) for i in list(franchise_ratings.keys())]\n",
    "#     print(franchise_ratings)\n",
    "    stat, p = kruskal(*franchise_ratings)\n",
    "    print(\"\\n\\n\",franchise,\"\\n\")\n",
    "    print(stat,p)\n",
    "    if p < 0.005:\n",
    "        print(\"Significant, movies are rated differently\")\n",
    "    else:\n",
    "        print(\"Not Significant, movies are rated similarly\")\n",
    "    "
   ]
  },
  {
   "cell_type": "markdown",
   "id": "62eb15ed",
   "metadata": {},
   "source": [
    "#### End of questions\n",
    "<br>\n",
    "<br>\n",
    "<br>\n",
    "<br>\n",
    "\n",
    "### Extra Credit Question\n",
    "<br>\n",
    "<br>\n",
    "\n",
    "Question: Do people who watch more movies rate movies differently than the people who watch less movies?<br>\n",
    "i.e. is there a 'movie experience effect' on the ratings?"
   ]
  },
  {
   "cell_type": "code",
   "execution_count": 52,
   "id": "a6631314",
   "metadata": {},
   "outputs": [],
   "source": [
    "num_movies_rated = np.asarray(movie_data.T.describe())[0]\n",
    "data['Number of movies rated'] = num_movies_rated\n",
    "# data"
   ]
  },
  {
   "cell_type": "code",
   "execution_count": 54,
   "id": "8f0d16f0",
   "metadata": {},
   "outputs": [
    {
     "name": "stdout",
     "output_type": "stream",
     "text": [
      "median of the number of movies watched by users:  81.0\n",
      "0.3194805194805195 9.024941766629605e-18\n",
      "The results are significant and rating pattern of frequent watchers is different from that of rare watchers\n"
     ]
    }
   ],
   "source": [
    "median_num_movies_rated = np.median(num_movies_rated)\n",
    "print(\"median of the number of movies watched by users: \",median_num_movies_rated)\n",
    "\n",
    "freq = \"Number of movies rated\"\n",
    "data_freq = data[data[freq] > median_num_movies_rated].T.iloc[:400].T\n",
    "data_rare = data[data[freq] <= median_num_movies_rated].T.iloc[:400].T\n",
    "\n",
    "freq_movie_medians = get_median_list(np.asarray(data_freq), debug = False)\n",
    "rare_movie_medians = get_median_list(np.asarray(data_rare), debug = False)\n",
    "\n",
    "valid_r = np.unique(rare_movie_medians)[:-1]\n",
    "valid_f = np.unique(freq_movie_medians)\n",
    "\n",
    "values_in_r = np.asarray([(i in valid_r) for i in rare_movie_medians])\n",
    "values_in_f = np.asarray([(i in valid_f) for i in freq_movie_medians])\n",
    "common =  values_in_r * values_in_f\n",
    "\n",
    "\n",
    "r,f = [],[]\n",
    "for i in range(rare_movie_medians.shape[0]):\n",
    "    if common[i]:\n",
    "        r.append(rare_movie_medians[i])\n",
    "        f.append(freq_movie_medians[i])\n",
    "\n",
    "rare_movie_medians = np.asarray(r)\n",
    "freq_movie_medians = np.asarray(f)\n",
    "\n",
    "u,p = ks_2samp(freq_movie_medians, rare_movie_medians)\n",
    "print(u,p)\n",
    "if p < 0.005:\n",
    "    print(\"The results are significant and rating pattern of frequent watchers is different from that of rare watchers\")\n",
    "else:\n",
    "    print(\"The results are not significant and it can not be concluded that rating pattern of frequent watchers is different from that of rare watchers\")"
   ]
  },
  {
   "cell_type": "code",
   "execution_count": 55,
   "id": "a4b24313",
   "metadata": {},
   "outputs": [
    {
     "data": {
      "text/plain": [
       "3.0"
      ]
     },
     "execution_count": 55,
     "metadata": {},
     "output_type": "execute_result"
    }
   ],
   "source": [
    "np.median(rare_movie_medians)"
   ]
  },
  {
   "cell_type": "code",
   "execution_count": 56,
   "id": "acdb05a5",
   "metadata": {},
   "outputs": [
    {
     "data": {
      "text/plain": [
       "(385,)"
      ]
     },
     "execution_count": 56,
     "metadata": {},
     "output_type": "execute_result"
    }
   ],
   "source": [
    "rare_movie_medians.shape"
   ]
  },
  {
   "cell_type": "code",
   "execution_count": 57,
   "id": "65bdb9e7",
   "metadata": {},
   "outputs": [
    {
     "data": {
      "text/plain": [
       "3.0"
      ]
     },
     "execution_count": 57,
     "metadata": {},
     "output_type": "execute_result"
    }
   ],
   "source": [
    "np.median(freq_movie_medians)"
   ]
  },
  {
   "cell_type": "code",
   "execution_count": 58,
   "id": "3bdcb9e1",
   "metadata": {},
   "outputs": [
    {
     "data": {
      "text/plain": [
       "(385,)"
      ]
     },
     "execution_count": 58,
     "metadata": {},
     "output_type": "execute_result"
    }
   ],
   "source": [
    "freq_movie_medians.shape"
   ]
  },
  {
   "cell_type": "code",
   "execution_count": 59,
   "id": "92bf8dbe",
   "metadata": {},
   "outputs": [
    {
     "data": {
      "text/plain": [
       "<matplotlib.legend.Legend at 0x17bfa48b0>"
      ]
     },
     "execution_count": 59,
     "metadata": {},
     "output_type": "execute_result"
    },
    {
     "data": {
      "image/png": "[encoded data removed]",
      "text/plain": [
       "<Figure size 640x480 with 1 Axes>"
      ]
     },
     "metadata": {},
     "output_type": "display_data"
    }
   ],
   "source": [
    "plt.hist(freq_movie_medians, density = True, alpha = 0.3, bins = 9)\n",
    "plt.hist(rare_movie_medians, density = True, alpha = 0.3, bins = 15)\n",
    "plt.legend(['Frequent watchers','Rare watchers'])"
   ]
  },
  {
   "cell_type": "markdown",
   "id": "96d96cf5",
   "metadata": {},
   "source": [
    "#### Extra Credit Question 2:\n",
    "\n",
    "What proportion of movies show a criticism effect?\n",
    "criticism effect: Do people who tend to find fault with others rate the movie differently from those who do not"
   ]
  },
  {
   "cell_type": "code",
   "execution_count": 60,
   "id": "f332b341",
   "metadata": {},
   "outputs": [],
   "source": [
    "median_criticism = np.median(data['Tends to find fault with others'].dropna())"
   ]
  },
  {
   "cell_type": "code",
   "execution_count": 61,
   "id": "af330692",
   "metadata": {},
   "outputs": [
    {
     "name": "stdout",
     "output_type": "stream",
     "text": [
      "Proportion of movies showing a criticism effect is: 0.75% acc to Mann Whitney\n"
     ]
    }
   ],
   "source": [
    "how_critical = 'Tends to find fault with others'\n",
    "\n",
    "# We use >= for critical data because people tend not to call themselves nit-picky, so they tend to understate their criticism ratings\n",
    "\n",
    "data_critical = data[data[how_critical] >= median_criticism].T.iloc[:400].T\n",
    "data_not_critical = data[data[how_critical] < median_criticism].T.iloc[:400].T\n",
    "count = [0,0]\n",
    "for movie in data_critical.keys():\n",
    "    movie_critical = np.asarray(data_critical[movie])\n",
    "    movie_critical = np.asarray(pd.DataFrame(movie_critical).dropna())[:,0]\n",
    "\n",
    "    movie_not_critical = np.asarray(data_not_critical[movie])\n",
    "    movie_not_critical = np.asarray(pd.DataFrame(movie_not_critical).dropna())[:,0]\n",
    "        \n",
    "    p_val_mwu = mannwhitneyu(movie_not_critical, movie_critical)[1]\n",
    "    if p_val_mwu <0.005:\n",
    "        count[1] += 1\n",
    "\n",
    "print(\"Proportion of movies showing a criticism effect is: {}% acc to Mann Whitney\".format(100*count[1]/400.0))"
   ]
  },
  {
   "cell_type": "code",
   "execution_count": 62,
   "id": "62fb2dc8",
   "metadata": {},
   "outputs": [
    {
     "data": {
      "text/plain": [
       "[0, 3]"
      ]
     },
     "execution_count": 62,
     "metadata": {},
     "output_type": "execute_result"
    }
   ],
   "source": [
    "count"
   ]
  },
  {
   "cell_type": "code",
   "execution_count": 63,
   "id": "8821e84a",
   "metadata": {},
   "outputs": [
    {
     "name": "stdout",
     "output_type": "stream",
     "text": [
      "Proportion of movies showing a criticism effect is: 9.5% acc to Mann Whitney\n"
     ]
    }
   ],
   "source": [
    "# Shifting the alpha level from 0.005 to 0.05\n",
    "how_critical = 'Tends to find fault with others'\n",
    "\n",
    "data_critical = data[data[how_critical] >= median_criticism].T.iloc[:400].T\n",
    "data_not_critical = data[data[how_critical] < median_criticism].T.iloc[:400].T\n",
    "count = [0,0]\n",
    "for movie in data_critical.keys():\n",
    "    movie_critical = np.asarray(data_critical[movie])\n",
    "    movie_critical = np.asarray(pd.DataFrame(movie_critical).dropna())[:,0]\n",
    "\n",
    "    movie_not_critical = np.asarray(data_not_critical[movie])\n",
    "    movie_not_critical = np.asarray(pd.DataFrame(movie_not_critical).dropna())[:,0]\n",
    "        \n",
    "    p_val_mwu = mannwhitneyu(movie_not_critical, movie_critical)[1]\n",
    "    if p_val_mwu <0.05:\n",
    "        count[1] += 1\n",
    "\n",
    "print(\"Proportion of movies showing a criticism effect is: {}% acc to Mann Whitney\".format(100*count[1]/400.0))"
   ]
  }
 ],
 "metadata": {
  "kernelspec": {
   "display_name": "Python 3 (ipykernel)",
   "language": "python",
   "name": "python3"
  },
  "language_info": {
   "codemirror_mode": {
    "name": "ipython",
    "version": 3
   },
   "file_extension": ".py",
   "mimetype": "text/x-python",
   "name": "python",
   "nbconvert_exporter": "python",
   "pygments_lexer": "ipython3",
   "version": "3.10.7"
  }
 },
 "nbformat": 4,
 "nbformat_minor": 5
}
